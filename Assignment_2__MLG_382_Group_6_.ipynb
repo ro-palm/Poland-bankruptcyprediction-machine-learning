{
  "cells": [
    {
      "cell_type": "markdown",
      "metadata": {
        "id": "kCnfNF3E4mGQ"
      },
      "source": [
        "# Assignment 2 : Group 6 \n",
        "## Team Members\n",
        "* Vuyo Fortune Mathe\n",
        "* Roan Palm\n",
        "* Henko Meyer\n",
        "\n",
        "###  Classification Algorithm to predict if a company will go bankrupt \n",
        "---\n",
        "\n"
      ]
    },
    {
      "cell_type": "code",
      "execution_count": 1,
      "metadata": {
        "colab": {
          "base_uri": "https://localhost:8080/",
          "height": 345
        },
        "id": "sRz-ZK_xC9ML",
        "outputId": "bf109084-9e7c-46b3-be58-d7970a712ad3"
      },
      "outputs": [],
      "source": [
        "# Import all nessecary libraries \n",
        "import gzip \n",
        "import json \n",
        "import pickle \n",
        "import pandas as pd \n",
        "import numpy as np \n",
        "import seaborn as sns\n",
        "import matplotlib.pyplot as plt\n",
        "from sklearn.model_selection import GridSearchCV, cross_val_score, train_test_split # Training and Testing Split Library\n",
        "from sklearn.preprocessing import StandardScaler # Import library for Feature Scaling\n",
        "from imblearn.over_sampling import RandomOverSampler\n",
        "from sklearn.ensemble import GradientBoostingClassifier, RandomForestClassifier\n",
        "from sklearn.datasets import make_classification\n",
        "from sklearn.metrics import accuracy_score, precision_score, recall_score, f1_score"
      ]
    },
    {
      "cell_type": "markdown",
      "metadata": {
        "id": "KHupmFID8cfn"
      },
      "source": [
        "# 1. Loading and preparing data "
      ]
    },
    {
      "cell_type": "markdown",
      "metadata": {
        "id": "bBNuXyKEDQRY"
      },
      "source": [
        "\n",
        "*   Import Dataset\n",
        "\n"
      ]
    },
    {
      "cell_type": "code",
      "execution_count": 2,
      "metadata": {
        "id": "0U8wIYEiDNur"
      },
      "outputs": [],
      "source": [
        "# Open the gzipped JSON file\n",
        "with gzip.open('poland-bankruptcy-data-2009.json.gz', 'rb') as f:\n",
        "    # Read the contents of the file\n",
        "    file_contents = f.read()\n",
        "\n",
        "# Decode the file contents and parse the JSON data\n",
        "dataset = json.loads(file_contents.decode('utf-8'))\n",
        "\n"
      ]
    },
    {
      "cell_type": "markdown",
      "metadata": {
        "id": "HGIQWS9CEVR1"
      },
      "source": [
        "\n",
        "\n",
        "*   Data preparing\n",
        "\n"
      ]
    },
    {
      "cell_type": "code",
      "execution_count": 3,
      "metadata": {
        "colab": {
          "base_uri": "https://localhost:8080/"
        },
        "id": "M3U8lsgO4Zz-",
        "outputId": "24f6ece7-0b41-4cd8-aa3e-d238c14f41c2"
      },
      "outputs": [
        {
          "data": {
            "text/plain": [
              "dict_keys(['schema', 'data', 'metadata'])"
            ]
          },
          "execution_count": 3,
          "metadata": {},
          "output_type": "execute_result"
        }
      ],
      "source": [
        "dataset.keys() #Get keys from Json format data"
      ]
    },
    {
      "cell_type": "code",
      "execution_count": 4,
      "metadata": {
        "colab": {
          "base_uri": "https://localhost:8080/"
        },
        "id": "jvW7_49LEfWD",
        "outputId": "72cf047b-2842-43ed-b9e5-95afaac14560"
      },
      "outputs": [
        {
          "data": {
            "text/plain": [
              "9977"
            ]
          },
          "execution_count": 4,
          "metadata": {},
          "output_type": "execute_result"
        }
      ],
      "source": [
        "len(dataset['data']) #Number of instances"
      ]
    },
    {
      "cell_type": "code",
      "execution_count": 5,
      "metadata": {
        "colab": {
          "base_uri": "https://localhost:8080/"
        },
        "id": "ITyV5r_oE_23",
        "outputId": "0171125b-b2f4-455b-826e-3134a359a976"
      },
      "outputs": [
        {
          "data": {
            "text/plain": [
              "66"
            ]
          },
          "execution_count": 5,
          "metadata": {},
          "output_type": "execute_result"
        }
      ],
      "source": [
        "len(dataset['data'][0]) #Number of features"
      ]
    },
    {
      "cell_type": "code",
      "execution_count": 6,
      "metadata": {
        "colab": {
          "base_uri": "https://localhost:8080/",
          "height": 311
        },
        "id": "YNlyt9iVFPkh",
        "outputId": "59b3de7c-910c-4625-b261-0ace46b56355"
      },
      "outputs": [
        {
          "data": {
            "text/html": [
              "<div>\n",
              "<style scoped>\n",
              "    .dataframe tbody tr th:only-of-type {\n",
              "        vertical-align: middle;\n",
              "    }\n",
              "\n",
              "    .dataframe tbody tr th {\n",
              "        vertical-align: top;\n",
              "    }\n",
              "\n",
              "    .dataframe thead th {\n",
              "        text-align: right;\n",
              "    }\n",
              "</style>\n",
              "<table border=\"1\" class=\"dataframe\">\n",
              "  <thead>\n",
              "    <tr style=\"text-align: right;\">\n",
              "      <th></th>\n",
              "      <th>feat_1</th>\n",
              "      <th>feat_2</th>\n",
              "      <th>feat_3</th>\n",
              "      <th>feat_4</th>\n",
              "      <th>feat_5</th>\n",
              "      <th>feat_6</th>\n",
              "      <th>feat_7</th>\n",
              "      <th>feat_8</th>\n",
              "      <th>feat_9</th>\n",
              "      <th>feat_10</th>\n",
              "      <th>...</th>\n",
              "      <th>feat_56</th>\n",
              "      <th>feat_57</th>\n",
              "      <th>feat_58</th>\n",
              "      <th>feat_59</th>\n",
              "      <th>feat_60</th>\n",
              "      <th>feat_61</th>\n",
              "      <th>feat_62</th>\n",
              "      <th>feat_63</th>\n",
              "      <th>feat_64</th>\n",
              "      <th>bankrupt</th>\n",
              "    </tr>\n",
              "    <tr>\n",
              "      <th>company_id</th>\n",
              "      <th></th>\n",
              "      <th></th>\n",
              "      <th></th>\n",
              "      <th></th>\n",
              "      <th></th>\n",
              "      <th></th>\n",
              "      <th></th>\n",
              "      <th></th>\n",
              "      <th></th>\n",
              "      <th></th>\n",
              "      <th></th>\n",
              "      <th></th>\n",
              "      <th></th>\n",
              "      <th></th>\n",
              "      <th></th>\n",
              "      <th></th>\n",
              "      <th></th>\n",
              "      <th></th>\n",
              "      <th></th>\n",
              "      <th></th>\n",
              "      <th></th>\n",
              "    </tr>\n",
              "  </thead>\n",
              "  <tbody>\n",
              "    <tr>\n",
              "      <th>1</th>\n",
              "      <td>0.174190</td>\n",
              "      <td>0.41299</td>\n",
              "      <td>0.14371</td>\n",
              "      <td>1.3480</td>\n",
              "      <td>-28.9820</td>\n",
              "      <td>0.60383</td>\n",
              "      <td>0.219460</td>\n",
              "      <td>1.12250</td>\n",
              "      <td>1.1961</td>\n",
              "      <td>0.46359</td>\n",
              "      <td>...</td>\n",
              "      <td>0.163960</td>\n",
              "      <td>0.375740</td>\n",
              "      <td>0.83604</td>\n",
              "      <td>0.000007</td>\n",
              "      <td>9.7145</td>\n",
              "      <td>6.2813</td>\n",
              "      <td>84.291</td>\n",
              "      <td>4.3303</td>\n",
              "      <td>4.0341</td>\n",
              "      <td>False</td>\n",
              "    </tr>\n",
              "    <tr>\n",
              "      <th>2</th>\n",
              "      <td>0.146240</td>\n",
              "      <td>0.46038</td>\n",
              "      <td>0.28230</td>\n",
              "      <td>1.6294</td>\n",
              "      <td>2.5952</td>\n",
              "      <td>0.00000</td>\n",
              "      <td>0.171850</td>\n",
              "      <td>1.17210</td>\n",
              "      <td>1.6018</td>\n",
              "      <td>0.53962</td>\n",
              "      <td>...</td>\n",
              "      <td>0.027516</td>\n",
              "      <td>0.271000</td>\n",
              "      <td>0.90108</td>\n",
              "      <td>0.000000</td>\n",
              "      <td>5.9882</td>\n",
              "      <td>4.1103</td>\n",
              "      <td>102.190</td>\n",
              "      <td>3.5716</td>\n",
              "      <td>5.9500</td>\n",
              "      <td>False</td>\n",
              "    </tr>\n",
              "    <tr>\n",
              "      <th>3</th>\n",
              "      <td>0.000595</td>\n",
              "      <td>0.22612</td>\n",
              "      <td>0.48839</td>\n",
              "      <td>3.1599</td>\n",
              "      <td>84.8740</td>\n",
              "      <td>0.19114</td>\n",
              "      <td>0.004572</td>\n",
              "      <td>2.98810</td>\n",
              "      <td>1.0077</td>\n",
              "      <td>0.67566</td>\n",
              "      <td>...</td>\n",
              "      <td>0.007639</td>\n",
              "      <td>0.000881</td>\n",
              "      <td>0.99236</td>\n",
              "      <td>0.000000</td>\n",
              "      <td>6.7742</td>\n",
              "      <td>3.7922</td>\n",
              "      <td>64.846</td>\n",
              "      <td>5.6287</td>\n",
              "      <td>4.4581</td>\n",
              "      <td>False</td>\n",
              "    </tr>\n",
              "    <tr>\n",
              "      <th>5</th>\n",
              "      <td>0.188290</td>\n",
              "      <td>0.41504</td>\n",
              "      <td>0.34231</td>\n",
              "      <td>1.9279</td>\n",
              "      <td>-58.2740</td>\n",
              "      <td>0.00000</td>\n",
              "      <td>0.233580</td>\n",
              "      <td>1.40940</td>\n",
              "      <td>1.3393</td>\n",
              "      <td>0.58496</td>\n",
              "      <td>...</td>\n",
              "      <td>0.176480</td>\n",
              "      <td>0.321880</td>\n",
              "      <td>0.82635</td>\n",
              "      <td>0.073039</td>\n",
              "      <td>2.5912</td>\n",
              "      <td>7.0756</td>\n",
              "      <td>100.540</td>\n",
              "      <td>3.6303</td>\n",
              "      <td>4.6375</td>\n",
              "      <td>False</td>\n",
              "    </tr>\n",
              "    <tr>\n",
              "      <th>6</th>\n",
              "      <td>0.182060</td>\n",
              "      <td>0.55615</td>\n",
              "      <td>0.32191</td>\n",
              "      <td>1.6045</td>\n",
              "      <td>16.3140</td>\n",
              "      <td>0.00000</td>\n",
              "      <td>0.182060</td>\n",
              "      <td>0.79808</td>\n",
              "      <td>1.8126</td>\n",
              "      <td>0.44385</td>\n",
              "      <td>...</td>\n",
              "      <td>0.555770</td>\n",
              "      <td>0.410190</td>\n",
              "      <td>0.46957</td>\n",
              "      <td>0.029421</td>\n",
              "      <td>8.4553</td>\n",
              "      <td>3.3488</td>\n",
              "      <td>107.240</td>\n",
              "      <td>3.4036</td>\n",
              "      <td>12.4540</td>\n",
              "      <td>False</td>\n",
              "    </tr>\n",
              "  </tbody>\n",
              "</table>\n",
              "<p>5 rows × 65 columns</p>\n",
              "</div>"
            ],
            "text/plain": [
              "              feat_1   feat_2   feat_3  feat_4   feat_5   feat_6    feat_7   \n",
              "company_id                                                                   \n",
              "1           0.174190  0.41299  0.14371  1.3480 -28.9820  0.60383  0.219460  \\\n",
              "2           0.146240  0.46038  0.28230  1.6294   2.5952  0.00000  0.171850   \n",
              "3           0.000595  0.22612  0.48839  3.1599  84.8740  0.19114  0.004572   \n",
              "5           0.188290  0.41504  0.34231  1.9279 -58.2740  0.00000  0.233580   \n",
              "6           0.182060  0.55615  0.32191  1.6045  16.3140  0.00000  0.182060   \n",
              "\n",
              "             feat_8  feat_9  feat_10  ...   feat_56   feat_57  feat_58   \n",
              "company_id                            ...                                \n",
              "1           1.12250  1.1961  0.46359  ...  0.163960  0.375740  0.83604  \\\n",
              "2           1.17210  1.6018  0.53962  ...  0.027516  0.271000  0.90108   \n",
              "3           2.98810  1.0077  0.67566  ...  0.007639  0.000881  0.99236   \n",
              "5           1.40940  1.3393  0.58496  ...  0.176480  0.321880  0.82635   \n",
              "6           0.79808  1.8126  0.44385  ...  0.555770  0.410190  0.46957   \n",
              "\n",
              "             feat_59  feat_60  feat_61  feat_62  feat_63  feat_64  bankrupt  \n",
              "company_id                                                                   \n",
              "1           0.000007   9.7145   6.2813   84.291   4.3303   4.0341     False  \n",
              "2           0.000000   5.9882   4.1103  102.190   3.5716   5.9500     False  \n",
              "3           0.000000   6.7742   3.7922   64.846   5.6287   4.4581     False  \n",
              "5           0.073039   2.5912   7.0756  100.540   3.6303   4.6375     False  \n",
              "6           0.029421   8.4553   3.3488  107.240   3.4036  12.4540     False  \n",
              "\n",
              "[5 rows x 65 columns]"
            ]
          },
          "execution_count": 6,
          "metadata": {},
          "output_type": "execute_result"
        }
      ],
      "source": [
        "type(dataset)\n",
        "df = pd.DataFrame().from_dict(dataset['data']).set_index('company_id')\n",
        "df.head() "
      ]
    },
    {
      "cell_type": "markdown",
      "metadata": {
        "id": "_PfMQLsuvSdQ"
      },
      "source": [
        "## Data Exploration"
      ]
    },
    {
      "cell_type": "code",
      "execution_count": 7,
      "metadata": {
        "colab": {
          "base_uri": "https://localhost:8080/",
          "height": 473
        },
        "id": "CcXOdmSIuvCF",
        "outputId": "8f8bc499-fab6-40af-a179-f6b49dbca2d1"
      },
      "outputs": [
        {
          "data": {
            "text/plain": [
              "<Axes: xlabel='bankrupt'>"
            ]
          },
          "execution_count": 7,
          "metadata": {},
          "output_type": "execute_result"
        },
        {
          "data": {
            "image/png": "[encoded data removed]",
            "text/plain": [
              "<Figure size 640x480 with 1 Axes>"
            ]
          },
          "metadata": {},
          "output_type": "display_data"
        }
      ],
      "source": [
        "df.bankrupt.value_counts(normalize=True).plot(kind='bar')"
      ]
    },
    {
      "cell_type": "code",
      "execution_count": 8,
      "metadata": {},
      "outputs": [
        {
          "data": {
            "text/html": [
              "<div>\n",
              "<style scoped>\n",
              "    .dataframe tbody tr th:only-of-type {\n",
              "        vertical-align: middle;\n",
              "    }\n",
              "\n",
              "    .dataframe tbody tr th {\n",
              "        vertical-align: top;\n",
              "    }\n",
              "\n",
              "    .dataframe thead th {\n",
              "        text-align: right;\n",
              "    }\n",
              "</style>\n",
              "<table border=\"1\" class=\"dataframe\">\n",
              "  <thead>\n",
              "    <tr style=\"text-align: right;\">\n",
              "      <th></th>\n",
              "      <th>column_name</th>\n",
              "      <th>percent_missing</th>\n",
              "    </tr>\n",
              "  </thead>\n",
              "  <tbody>\n",
              "    <tr>\n",
              "      <th>feat_37</th>\n",
              "      <td>feat_37</td>\n",
              "      <td>44.883231</td>\n",
              "    </tr>\n",
              "    <tr>\n",
              "      <th>feat_21</th>\n",
              "      <td>feat_21</td>\n",
              "      <td>7.737797</td>\n",
              "    </tr>\n",
              "    <tr>\n",
              "      <th>feat_27</th>\n",
              "      <td>feat_27</td>\n",
              "      <td>6.665330</td>\n",
              "    </tr>\n",
              "    <tr>\n",
              "      <th>feat_60</th>\n",
              "      <td>feat_60</td>\n",
              "      <td>5.632956</td>\n",
              "    </tr>\n",
              "    <tr>\n",
              "      <th>feat_45</th>\n",
              "      <td>feat_45</td>\n",
              "      <td>5.622933</td>\n",
              "    </tr>\n",
              "    <tr>\n",
              "      <th>...</th>\n",
              "      <td>...</td>\n",
              "      <td>...</td>\n",
              "    </tr>\n",
              "    <tr>\n",
              "      <th>feat_10</th>\n",
              "      <td>feat_10</td>\n",
              "      <td>0.000000</td>\n",
              "    </tr>\n",
              "    <tr>\n",
              "      <th>feat_7</th>\n",
              "      <td>feat_7</td>\n",
              "      <td>0.000000</td>\n",
              "    </tr>\n",
              "    <tr>\n",
              "      <th>feat_6</th>\n",
              "      <td>feat_6</td>\n",
              "      <td>0.000000</td>\n",
              "    </tr>\n",
              "    <tr>\n",
              "      <th>feat_3</th>\n",
              "      <td>feat_3</td>\n",
              "      <td>0.000000</td>\n",
              "    </tr>\n",
              "    <tr>\n",
              "      <th>bankrupt</th>\n",
              "      <td>bankrupt</td>\n",
              "      <td>0.000000</td>\n",
              "    </tr>\n",
              "  </tbody>\n",
              "</table>\n",
              "<p>65 rows × 2 columns</p>\n",
              "</div>"
            ],
            "text/plain": [
              "         column_name  percent_missing\n",
              "feat_37      feat_37        44.883231\n",
              "feat_21      feat_21         7.737797\n",
              "feat_27      feat_27         6.665330\n",
              "feat_60      feat_60         5.632956\n",
              "feat_45      feat_45         5.622933\n",
              "...              ...              ...\n",
              "feat_10      feat_10         0.000000\n",
              "feat_7        feat_7         0.000000\n",
              "feat_6        feat_6         0.000000\n",
              "feat_3        feat_3         0.000000\n",
              "bankrupt    bankrupt         0.000000\n",
              "\n",
              "[65 rows x 2 columns]"
            ]
          },
          "execution_count": 8,
          "metadata": {},
          "output_type": "execute_result"
        }
      ],
      "source": [
        "percent_missing = df.isnull().sum() / df.shape[0] * 100.00\n",
        "missing_value_df = pd.DataFrame({'column_name': df.columns,\n",
        "                                 'percent_missing': percent_missing})\n",
        "missing_value_df.sort_values('percent_missing', inplace=True, ascending=False)\n",
        "missing_value_df"
      ]
    },
    {
      "cell_type": "code",
      "execution_count": 9,
      "metadata": {},
      "outputs": [
        {
          "data": {
            "text/html": [
              "<div>\n",
              "<style scoped>\n",
              "    .dataframe tbody tr th:only-of-type {\n",
              "        vertical-align: middle;\n",
              "    }\n",
              "\n",
              "    .dataframe tbody tr th {\n",
              "        vertical-align: top;\n",
              "    }\n",
              "\n",
              "    .dataframe thead th {\n",
              "        text-align: right;\n",
              "    }\n",
              "</style>\n",
              "<table border=\"1\" class=\"dataframe\">\n",
              "  <thead>\n",
              "    <tr style=\"text-align: right;\">\n",
              "      <th></th>\n",
              "      <th>feat_1</th>\n",
              "      <th>feat_2</th>\n",
              "      <th>feat_3</th>\n",
              "      <th>feat_4</th>\n",
              "      <th>feat_5</th>\n",
              "      <th>feat_6</th>\n",
              "      <th>feat_7</th>\n",
              "      <th>feat_8</th>\n",
              "      <th>feat_9</th>\n",
              "      <th>feat_10</th>\n",
              "      <th>...</th>\n",
              "      <th>feat_55</th>\n",
              "      <th>feat_56</th>\n",
              "      <th>feat_57</th>\n",
              "      <th>feat_58</th>\n",
              "      <th>feat_59</th>\n",
              "      <th>feat_60</th>\n",
              "      <th>feat_61</th>\n",
              "      <th>feat_62</th>\n",
              "      <th>feat_63</th>\n",
              "      <th>feat_64</th>\n",
              "    </tr>\n",
              "  </thead>\n",
              "  <tbody>\n",
              "    <tr>\n",
              "      <th>count</th>\n",
              "      <td>9977.000000</td>\n",
              "      <td>9977.000000</td>\n",
              "      <td>9977.000000</td>\n",
              "      <td>9960.000000</td>\n",
              "      <td>9.952000e+03</td>\n",
              "      <td>9977.000000</td>\n",
              "      <td>9977.000000</td>\n",
              "      <td>9964.000000</td>\n",
              "      <td>9974.000000</td>\n",
              "      <td>9977.000000</td>\n",
              "      <td>...</td>\n",
              "      <td>9.977000e+03</td>\n",
              "      <td>9935.000000</td>\n",
              "      <td>9977.000000</td>\n",
              "      <td>9948.000000</td>\n",
              "      <td>9977.000000</td>\n",
              "      <td>9.415000e+03</td>\n",
              "      <td>9961.00000</td>\n",
              "      <td>9.935000e+03</td>\n",
              "      <td>9960.000000</td>\n",
              "      <td>9765.000000</td>\n",
              "    </tr>\n",
              "    <tr>\n",
              "      <th>mean</th>\n",
              "      <td>0.052688</td>\n",
              "      <td>0.623634</td>\n",
              "      <td>0.088614</td>\n",
              "      <td>10.067323</td>\n",
              "      <td>-1.412557e+03</td>\n",
              "      <td>-0.124340</td>\n",
              "      <td>0.065407</td>\n",
              "      <td>16.757657</td>\n",
              "      <td>1.820532</td>\n",
              "      <td>0.362319</td>\n",
              "      <td>...</td>\n",
              "      <td>6.771696e+03</td>\n",
              "      <td>-0.561651</td>\n",
              "      <td>-0.028476</td>\n",
              "      <td>3.976806</td>\n",
              "      <td>1.486227</td>\n",
              "      <td>5.938426e+02</td>\n",
              "      <td>13.62412</td>\n",
              "      <td>1.364510e+02</td>\n",
              "      <td>9.034435</td>\n",
              "      <td>36.291450</td>\n",
              "    </tr>\n",
              "    <tr>\n",
              "      <th>std</th>\n",
              "      <td>0.662816</td>\n",
              "      <td>6.590734</td>\n",
              "      <td>6.584543</td>\n",
              "      <td>537.128699</td>\n",
              "      <td>1.216712e+05</td>\n",
              "      <td>7.145680</td>\n",
              "      <td>0.666113</td>\n",
              "      <td>673.845491</td>\n",
              "      <td>7.771473</td>\n",
              "      <td>6.592272</td>\n",
              "      <td>...</td>\n",
              "      <td>6.121491e+04</td>\n",
              "      <td>57.438557</td>\n",
              "      <td>19.134737</td>\n",
              "      <td>195.155108</td>\n",
              "      <td>79.262784</td>\n",
              "      <td>3.812344e+04</td>\n",
              "      <td>73.22837</td>\n",
              "      <td>2.666901e+04</td>\n",
              "      <td>31.773572</td>\n",
              "      <td>438.506192</td>\n",
              "    </tr>\n",
              "    <tr>\n",
              "      <th>min</th>\n",
              "      <td>-17.692000</td>\n",
              "      <td>0.000000</td>\n",
              "      <td>-479.730000</td>\n",
              "      <td>0.002080</td>\n",
              "      <td>-1.190300e+07</td>\n",
              "      <td>-508.120000</td>\n",
              "      <td>-17.692000</td>\n",
              "      <td>-2.081800</td>\n",
              "      <td>-1.215700</td>\n",
              "      <td>-479.730000</td>\n",
              "      <td>...</td>\n",
              "      <td>-7.513800e+05</td>\n",
              "      <td>-5691.700000</td>\n",
              "      <td>-1667.300000</td>\n",
              "      <td>-198.690000</td>\n",
              "      <td>-172.070000</td>\n",
              "      <td>0.000000e+00</td>\n",
              "      <td>-6.59030</td>\n",
              "      <td>-2.336500e+06</td>\n",
              "      <td>-0.000156</td>\n",
              "      <td>-0.000102</td>\n",
              "    </tr>\n",
              "    <tr>\n",
              "      <th>25%</th>\n",
              "      <td>0.000700</td>\n",
              "      <td>0.255280</td>\n",
              "      <td>0.016341</td>\n",
              "      <td>1.036150</td>\n",
              "      <td>-5.266650e+01</td>\n",
              "      <td>0.000000</td>\n",
              "      <td>0.002265</td>\n",
              "      <td>0.430778</td>\n",
              "      <td>1.011100</td>\n",
              "      <td>0.296990</td>\n",
              "      <td>...</td>\n",
              "      <td>1.304300e+01</td>\n",
              "      <td>0.005136</td>\n",
              "      <td>0.007051</td>\n",
              "      <td>0.875850</td>\n",
              "      <td>0.000000</td>\n",
              "      <td>5.532000e+00</td>\n",
              "      <td>4.49120</td>\n",
              "      <td>4.101200e+01</td>\n",
              "      <td>3.049300</td>\n",
              "      <td>2.003100</td>\n",
              "    </tr>\n",
              "    <tr>\n",
              "      <th>50%</th>\n",
              "      <td>0.042731</td>\n",
              "      <td>0.465920</td>\n",
              "      <td>0.197570</td>\n",
              "      <td>1.600650</td>\n",
              "      <td>1.495950e+00</td>\n",
              "      <td>0.000000</td>\n",
              "      <td>0.050661</td>\n",
              "      <td>1.104150</td>\n",
              "      <td>1.197300</td>\n",
              "      <td>0.513340</td>\n",
              "      <td>...</td>\n",
              "      <td>8.874800e+02</td>\n",
              "      <td>0.051546</td>\n",
              "      <td>0.106550</td>\n",
              "      <td>0.953130</td>\n",
              "      <td>0.003356</td>\n",
              "      <td>9.933700e+00</td>\n",
              "      <td>6.67050</td>\n",
              "      <td>7.093200e+01</td>\n",
              "      <td>5.116700</td>\n",
              "      <td>4.031400</td>\n",
              "    </tr>\n",
              "    <tr>\n",
              "      <th>75%</th>\n",
              "      <td>0.123140</td>\n",
              "      <td>0.690060</td>\n",
              "      <td>0.415680</td>\n",
              "      <td>2.950525</td>\n",
              "      <td>5.601725e+01</td>\n",
              "      <td>0.071759</td>\n",
              "      <td>0.141700</td>\n",
              "      <td>2.827425</td>\n",
              "      <td>2.044550</td>\n",
              "      <td>0.723920</td>\n",
              "      <td>...</td>\n",
              "      <td>4.363300e+03</td>\n",
              "      <td>0.129640</td>\n",
              "      <td>0.271860</td>\n",
              "      <td>0.995923</td>\n",
              "      <td>0.249600</td>\n",
              "      <td>2.077800e+01</td>\n",
              "      <td>10.58400</td>\n",
              "      <td>1.187050e+02</td>\n",
              "      <td>8.846400</td>\n",
              "      <td>9.574000</td>\n",
              "    </tr>\n",
              "    <tr>\n",
              "      <th>max</th>\n",
              "      <td>52.652000</td>\n",
              "      <td>480.730000</td>\n",
              "      <td>17.708000</td>\n",
              "      <td>53433.000000</td>\n",
              "      <td>6.854400e+05</td>\n",
              "      <td>45.533000</td>\n",
              "      <td>52.652000</td>\n",
              "      <td>53432.000000</td>\n",
              "      <td>740.440000</td>\n",
              "      <td>11.837000</td>\n",
              "      <td>...</td>\n",
              "      <td>3.380500e+06</td>\n",
              "      <td>293.150000</td>\n",
              "      <td>552.640000</td>\n",
              "      <td>18118.000000</td>\n",
              "      <td>7617.300000</td>\n",
              "      <td>3.660200e+06</td>\n",
              "      <td>4246.70000</td>\n",
              "      <td>1.073500e+06</td>\n",
              "      <td>1974.500000</td>\n",
              "      <td>21499.000000</td>\n",
              "    </tr>\n",
              "  </tbody>\n",
              "</table>\n",
              "<p>8 rows × 64 columns</p>\n",
              "</div>"
            ],
            "text/plain": [
              "            feat_1       feat_2       feat_3        feat_4        feat_5   \n",
              "count  9977.000000  9977.000000  9977.000000   9960.000000  9.952000e+03  \\\n",
              "mean      0.052688     0.623634     0.088614     10.067323 -1.412557e+03   \n",
              "std       0.662816     6.590734     6.584543    537.128699  1.216712e+05   \n",
              "min     -17.692000     0.000000  -479.730000      0.002080 -1.190300e+07   \n",
              "25%       0.000700     0.255280     0.016341      1.036150 -5.266650e+01   \n",
              "50%       0.042731     0.465920     0.197570      1.600650  1.495950e+00   \n",
              "75%       0.123140     0.690060     0.415680      2.950525  5.601725e+01   \n",
              "max      52.652000   480.730000    17.708000  53433.000000  6.854400e+05   \n",
              "\n",
              "            feat_6       feat_7        feat_8       feat_9      feat_10  ...   \n",
              "count  9977.000000  9977.000000   9964.000000  9974.000000  9977.000000  ...  \\\n",
              "mean     -0.124340     0.065407     16.757657     1.820532     0.362319  ...   \n",
              "std       7.145680     0.666113    673.845491     7.771473     6.592272  ...   \n",
              "min    -508.120000   -17.692000     -2.081800    -1.215700  -479.730000  ...   \n",
              "25%       0.000000     0.002265      0.430778     1.011100     0.296990  ...   \n",
              "50%       0.000000     0.050661      1.104150     1.197300     0.513340  ...   \n",
              "75%       0.071759     0.141700      2.827425     2.044550     0.723920  ...   \n",
              "max      45.533000    52.652000  53432.000000   740.440000    11.837000  ...   \n",
              "\n",
              "            feat_55      feat_56      feat_57       feat_58      feat_59   \n",
              "count  9.977000e+03  9935.000000  9977.000000   9948.000000  9977.000000  \\\n",
              "mean   6.771696e+03    -0.561651    -0.028476      3.976806     1.486227   \n",
              "std    6.121491e+04    57.438557    19.134737    195.155108    79.262784   \n",
              "min   -7.513800e+05 -5691.700000 -1667.300000   -198.690000  -172.070000   \n",
              "25%    1.304300e+01     0.005136     0.007051      0.875850     0.000000   \n",
              "50%    8.874800e+02     0.051546     0.106550      0.953130     0.003356   \n",
              "75%    4.363300e+03     0.129640     0.271860      0.995923     0.249600   \n",
              "max    3.380500e+06   293.150000   552.640000  18118.000000  7617.300000   \n",
              "\n",
              "            feat_60     feat_61       feat_62      feat_63       feat_64  \n",
              "count  9.415000e+03  9961.00000  9.935000e+03  9960.000000   9765.000000  \n",
              "mean   5.938426e+02    13.62412  1.364510e+02     9.034435     36.291450  \n",
              "std    3.812344e+04    73.22837  2.666901e+04    31.773572    438.506192  \n",
              "min    0.000000e+00    -6.59030 -2.336500e+06    -0.000156     -0.000102  \n",
              "25%    5.532000e+00     4.49120  4.101200e+01     3.049300      2.003100  \n",
              "50%    9.933700e+00     6.67050  7.093200e+01     5.116700      4.031400  \n",
              "75%    2.077800e+01    10.58400  1.187050e+02     8.846400      9.574000  \n",
              "max    3.660200e+06  4246.70000  1.073500e+06  1974.500000  21499.000000  \n",
              "\n",
              "[8 rows x 64 columns]"
            ]
          },
          "execution_count": 9,
          "metadata": {},
          "output_type": "execute_result"
        }
      ],
      "source": [
        "df.describe()"
      ]
    },
    {
      "cell_type": "code",
      "execution_count": 10,
      "metadata": {},
      "outputs": [
        {
          "name": "stdout",
          "output_type": "stream",
          "text": [
            "\n",
            "DataFrame after dropping null values:\n",
            "              feat_1    feat_2    feat_3     feat_4   feat_5    feat_6   \n",
            "company_id                                                               \n",
            "1           0.174190  0.412990  0.143710    1.34800  -28.982  0.603830  \\\n",
            "5           0.188290  0.415040  0.342310    1.92790  -58.274  0.000000   \n",
            "7           0.115030  0.036659  0.923450  112.63000   55.580  0.000000   \n",
            "8           0.009832  0.670660  0.135460    1.23930 -107.730 -0.001401   \n",
            "12          0.083519  0.402860  0.583800    2.69400   35.966  0.638970   \n",
            "...              ...       ...       ...        ...      ...       ...   \n",
            "10477       0.003603  0.824060 -0.049051    0.89208 -111.350  0.000000   \n",
            "10491       0.180780  1.014800 -0.118940    0.86624  -61.124 -7.664900   \n",
            "10494      -0.019241  0.698810  0.050157    1.25360  -12.669  0.000000   \n",
            "10496       0.062089  0.768410 -0.188140    0.64101  -39.505  0.000000   \n",
            "10503      -0.001775  0.947800  0.003729    1.00450  -50.221  0.000000   \n",
            "\n",
            "              feat_7     feat_8   feat_9   feat_10  ...   feat_56    feat_57   \n",
            "company_id                                          ...                        \n",
            "1           0.219460   1.122500  1.19610  0.463590  ...  0.163960   0.375740  \\\n",
            "5           0.233580   1.409400  1.33930  0.584960  ...  0.176480   0.321880   \n",
            "7           0.142150  26.279000  0.44339  0.963340  ...  0.067038   0.119400   \n",
            "8           0.013422   0.491080  1.18250  0.329340  ...  0.197800   0.029854   \n",
            "12          0.107280   1.482200  1.04750  0.597140  ...  0.045381   0.139870   \n",
            "...              ...        ...      ...       ...  ...       ...        ...   \n",
            "10477       0.008453   0.213440  0.87744  0.175890  ...  0.030310   0.020487   \n",
            "10491       0.186250  -0.014645  3.38170 -0.014862  ...  0.155020 -12.164000   \n",
            "10494      -0.020521   0.431000  1.56360  0.301190  ...  0.017165  -0.063883   \n",
            "10496       0.062089   0.301390  3.17260  0.231590  ...  0.046701   0.268100   \n",
            "10503       0.002565   0.055122  2.12680  0.052245  ...  0.023492  -0.033971   \n",
            "\n",
            "            feat_58   feat_59  feat_60  feat_61   feat_62  feat_63  feat_64   \n",
            "company_id                                                                    \n",
            "1           0.83604  0.000007   9.7145   6.2813   84.2910   4.3303   4.0341  \\\n",
            "5           0.82635  0.073039   2.5912   7.0756  100.5400   3.6303   4.6375   \n",
            "7           0.75777  0.015995  18.4330  41.7830    6.8102  53.5960   6.4942   \n",
            "8           0.83478  0.143940   8.1813   4.0084  174.7300   2.0889   3.9616   \n",
            "12          0.95462  0.097510   6.5056   5.4428   53.9100   6.7706  32.6040   \n",
            "...             ...       ...      ...      ...       ...      ...      ...   \n",
            "10477       0.94317  1.477100   4.6339   6.9992  189.0600   1.9306   1.4759   \n",
            "10491       0.76623 -1.507300   7.3109  21.9700   95.9790   3.8029  14.7300   \n",
            "10494       1.02570  1.296700  15.2820  11.5440   46.1730   7.9051   2.0792   \n",
            "10496       0.96936  0.667000  23.1010  17.7740   60.2940   6.0537   4.7776   \n",
            "10503       0.97208  2.398500   7.5512   3.9960  141.1600   2.5857  12.2250   \n",
            "\n",
            "            bankrupt  \n",
            "company_id            \n",
            "1              False  \n",
            "5              False  \n",
            "7              False  \n",
            "8              False  \n",
            "12             False  \n",
            "...              ...  \n",
            "10477           True  \n",
            "10491           True  \n",
            "10494           True  \n",
            "10496           True  \n",
            "10503           True  \n",
            "\n",
            "[4658 rows x 65 columns]\n"
          ]
        }
      ],
      "source": [
        "# Drop null values\n",
        "df = df.dropna()\n",
        "\n",
        "# Display the DataFrame after dropping null values\n",
        "print(\"\\nDataFrame after dropping null values:\")\n",
        "print(df)"
      ]
    },
    {
      "attachments": {},
      "cell_type": "markdown",
      "metadata": {},
      "source": [
        "# 2. Train-Test-Split"
      ]
    },
    {
      "cell_type": "code",
      "execution_count": 11,
      "metadata": {
        "colab": {
          "base_uri": "https://localhost:8080/"
        },
        "id": "JndZpeee8xxp",
        "outputId": "ecac51f5-fe95-4207-a26c-0d0e94a8dfa0"
      },
      "outputs": [
        {
          "name": "stdout",
          "output_type": "stream",
          "text": [
            "X shape: (4658, 64)\n",
            "Y shape: (4658,)\n"
          ]
        }
      ],
      "source": [
        "target = \"bankrupt\"\n",
        "X = df.drop(columns=target)\n",
        "Y = df[target]\n",
        "\n",
        "print(\"X shape:\", X.shape)\n",
        "print(\"Y shape:\", Y.shape)"
      ]
    },
    {
      "cell_type": "markdown",
      "metadata": {
        "id": "ZJ0Gx9rHus4T"
      },
      "source": [
        "## Standardize the features"
      ]
    },
    {
      "cell_type": "code",
      "execution_count": 12,
      "metadata": {
        "id": "rDpTofEcusEA"
      },
      "outputs": [],
      "source": [
        "scaler = StandardScaler()\n",
        "X = scaler.fit_transform(X)"
      ]
    },
    {
      "cell_type": "markdown",
      "metadata": {
        "id": "4ECUxpX9v8xz"
      },
      "source": [
        "## Split Data "
      ]
    },
    {
      "cell_type": "code",
      "execution_count": 13,
      "metadata": {
        "colab": {
          "base_uri": "https://localhost:8080/"
        },
        "id": "x1jZ48HQxh-u",
        "outputId": "cc89bd5d-6bca-4a5c-cd31-158f6694df08"
      },
      "outputs": [
        {
          "name": "stdout",
          "output_type": "stream",
          "text": [
            "X_train shape: (3726, 64)\n",
            "y_train shape: (3726,)\n",
            "X_test shape: (932, 64)\n",
            "y_test shape: (932,)\n"
          ]
        }
      ],
      "source": [
        "X_train, X_test, Y_train, Y_test = train_test_split(X,Y, test_size=0.2, random_state=42) \n",
        "print(\"X_train shape:\", X_train.shape)\n",
        "print(\"y_train shape:\", Y_train.shape)\n",
        "print(\"X_test shape:\", X_test.shape)\n",
        "print(\"y_test shape:\", Y_test.shape)"
      ]
    },
    {
      "cell_type": "markdown",
      "metadata": {
        "id": "ex5_XEoI81Nv"
      },
      "source": [
        "# 3. Resampling Technique"
      ]
    },
    {
      "cell_type": "code",
      "execution_count": 15,
      "metadata": {
        "id": "_510Rqs385J5"
      },
      "outputs": [],
      "source": [
        "over_Sampler = RandomOverSampler(random_state=42)\n",
        "\n",
        "\n",
        "X_train_over, Y_train_over = over_Sampler.fit_resample(X_train, Y_train)\n",
        "\n"
      ]
    },
    {
      "attachments": {},
      "cell_type": "markdown",
      "metadata": {},
      "source": [
        "### Plot the labels on a bar graph"
      ]
    },
    {
      "cell_type": "code",
      "execution_count": null,
      "metadata": {
        "id": "y_JRiMdL7XDw"
      },
      "outputs": [
        {
          "data": {
            "image/png": "[encoded data removed]",
            "text/plain": [
              "<Figure size 640x480 with 1 Axes>"
            ]
          },
          "metadata": {},
          "output_type": "display_data"
        }
      ],
      "source": [
        "# Convert the numpy array to pandas series\n",
        "Y_train_over_series = pd.Series(Y_train_over)\n",
        "\n",
        "# Get value counts and store it\n",
        "value_counts = Y_train_over_series.value_counts(normalize=True)\n",
        "\n",
        "# Create the bar plot\n",
        "ax = value_counts.plot(kind='bar')\n",
        "\n",
        "# Add labels to each bar\n",
        "for i in ax.patches:\n",
        "    ax.text(i.get_x(), i.get_height(), str(round(i.get_height(), 2)))\n",
        "\n",
        "\n",
        "plt.title(\"Data Labels\")\n",
        "plt.xlabel(\"Data Class\")\n",
        "plt.ylabel(\"Value Count\")\n",
        "plt.show()"
      ]
    },
    {
      "cell_type": "code",
      "execution_count": null,
      "metadata": {
        "id": "H3vRoy_B875f"
      },
      "outputs": [
        {
          "name": "stdout",
          "output_type": "stream",
          "text": [
            "Accuracy: 0.892\n"
          ]
        }
      ],
      "source": [
        "# Generate a sample classification dataset\n",
        "X, Y = make_classification(n_samples=1000, n_features=10, random_state=42)\n",
        "# Split the dataset into training and testing sets\n",
        "X_train, X_test, Y_train, Y_test = train_test_split(X, Y, random_state=42)\n",
        "# Create a Gradient Boosting Classifier with default hyperparameters\n",
        "gb_classifier = GradientBoostingClassifier()\n",
        "# Train the classifier on the training set\n",
        "gb_classifier.fit(X_train, Y_train)\n",
        "# Make predictions on the testing set\n",
        "Y_pred = gb_classifier.predict(X_test)\n",
        "# Evaluate the accuracy of the classifier\n",
        "accuracy = gb_classifier.score(X_test, Y_test)\n",
        "print(\"Accuracy:\", accuracy)\n"
      ]
    },
    {
      "cell_type": "markdown",
      "metadata": {
        "id": "vjyJvRut9EH4"
      },
      "source": [
        "# 4. Hyper-Parameter Tuning"
      ]
    },
    {
      "cell_type": "code",
      "execution_count": null,
      "metadata": {
        "id": "ZkQRjD0T9J16"
      },
      "outputs": [
        {
          "name": "stdout",
          "output_type": "stream",
          "text": [
            "Best parameters:  {'max_depth': None, 'min_samples_split': 2, 'n_estimators': 10}\n"
          ]
        }
      ],
      "source": [
        "# Define the hyperparameter grid to search\n",
        "param_grid = {\n",
        "    'n_estimators': [10, 50, 100],\n",
        "    'max_depth': [None, 5, 10],\n",
        "    'min_samples_split': [2, 5, 10]\n",
        "}\n",
        "# Create a random forest classifier\n",
        "rf = RandomForestClassifier()\n",
        "# Create a grid search object\n",
        "grid_search = GridSearchCV(\n",
        "    estimator=rf,\n",
        "    param_grid=param_grid,\n",
        "    cv=5,  # Use 5-fold cross-validation\n",
        "    n_jobs=-1  # Use all available CPU cores\n",
        ")\n",
        "# Fit the grid search object to the data\n",
        "grid_search.fit(X, Y)\n",
        "# Print the best hyperparameters found\n",
        "print(\"Best parameters: \", grid_search.best_params_)"
      ]
    },
    {
      "cell_type": "markdown",
      "metadata": {
        "id": "nxEOMN439MN2"
      },
      "source": [
        "# 5. Model Evaluation"
      ]
    },
    {
      "attachments": {},
      "cell_type": "markdown",
      "metadata": {},
      "source": [
        "## Evaluation "
      ]
    },
    {
      "cell_type": "code",
      "execution_count": null,
      "metadata": {},
      "outputs": [
        {
          "name": "stdout",
          "output_type": "stream",
          "text": [
            "Accuracy:  0.892\n",
            "Precision:  0.8988929303278689\n",
            "Recall:  0.892\n",
            "F1-Score:  0.8922335827232092\n"
          ]
        }
      ],
      "source": [
        "accuracy = accuracy_score(Y_test, Y_pred)\n",
        "precision = precision_score(Y_test, Y_pred, average='weighted')\n",
        "recall = recall_score(Y_test, Y_pred, average='weighted')\n",
        "f1 = f1_score(Y_test, Y_pred, average='weighted')\n",
        "\n",
        "print(\"Accuracy: \", accuracy)\n",
        "print(\"Precision: \", precision)\n",
        "print(\"Recall: \", recall)\n",
        "print(\"F1-Score: \", f1)"
      ]
    },
    {
      "cell_type": "markdown",
      "metadata": {
        "id": "n2LmHK2W9cGx"
      },
      "source": [
        "# 6. Feature Importance analysis "
      ]
    },
    {
      "cell_type": "code",
      "execution_count": null,
      "metadata": {
        "id": "AkCkklUx9jBI"
      },
      "outputs": [
        {
          "name": "stdout",
          "output_type": "stream",
          "text": [
            "Top 10 most important features:\n",
            "feat_7              : 0.6952228147993628\n",
            "feat_9              : 0.16753707475422036\n",
            "feat_3              : 0.0493210550712407\n",
            "feat_5              : 0.021245612341733576\n",
            "feat_6              : 0.015106279192193841\n",
            "feat_10             : 0.014200364478849653\n",
            "feat_2              : 0.012989898614932568\n",
            "feat_1              : 0.00925269165823002\n",
            "feat_8              : 0.008987918127019266\n",
            "feat_4              : 0.006136290962217121\n"
          ]
        }
      ],
      "source": [
        "# Compute feature importances and sort them in descending order\n",
        "importances = gb_classifier.feature_importances_\n",
        "sorted_indices = importances.argsort()[::-1]\n",
        "\n",
        "# Print the top 10 most important features\n",
        "print(\"Top 10 most important features:\")\n",
        "for i in range(10):\n",
        "    print(\"{:<20}: {}\".format(df.columns[sorted_indices[i]], importances[sorted_indices[i]]))"
      ]
    },
    {
      "cell_type": "markdown",
      "metadata": {
        "id": "W_Mtqthc9n-1"
      },
      "source": [
        "# 7. Reporting"
      ]
    },
    {
      "cell_type": "code",
      "execution_count": null,
      "metadata": {
        "id": "dpmKiM_p9sOM"
      },
      "outputs": [],
      "source": [
        "#Read the PDF file attached"
      ]
    }
  ],
  "metadata": {
    "colab": {
      "provenance": []
    },
    "kernelspec": {
      "display_name": "Python 3",
      "name": "python3"
    },
    "language_info": {
      "codemirror_mode": {
        "name": "ipython",
        "version": 3
      },
      "file_extension": ".py",
      "mimetype": "text/x-python",
      "name": "python",
      "nbconvert_exporter": "python",
      "pygments_lexer": "ipython3",
      "version": "3.10.9"
    }
  },
  "nbformat": 4,
  "nbformat_minor": 0
}
